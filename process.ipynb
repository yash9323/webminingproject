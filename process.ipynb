{
 "cells": [
  {
   "cell_type": "code",
   "execution_count": 7,
   "metadata": {},
   "outputs": [
    {
     "name": "stderr",
     "output_type": "stream",
     "text": [
      "[nltk_data] Downloading package punkt to\n",
      "[nltk_data]     /Users/yashbhutoria/nltk_data...\n",
      "[nltk_data]   Unzipping tokenizers/punkt.zip.\n"
     ]
    }
   ],
   "source": [
    "import nltk\n",
    "nltk.download([\n",
    "\"names\",\n",
    "\"stopwords\",\n",
    "\"state_union\",\n",
    "\"twitter_samples\",\n",
    "\"movie_reviews\",\n",
    "\"averaged_perceptron_tagger\",\n",
    "\"vader_lexicon\",\n",
    "\"punkt\",\n",
    "... ])\n",
    "from nltk.tokenize import word_tokenize\n",
    "import pandas as pd\n",
    "\n",
    "\n",
    "data = pd.read_csv(\"data.csv\")"
   ]
  },
  {
   "cell_type": "code",
   "execution_count": 8,
   "metadata": {},
   "outputs": [
    {
     "data": {
      "text/html": [
       "<div>\n",
       "<style scoped>\n",
       "    .dataframe tbody tr th:only-of-type {\n",
       "        vertical-align: middle;\n",
       "    }\n",
       "\n",
       "    .dataframe tbody tr th {\n",
       "        vertical-align: top;\n",
       "    }\n",
       "\n",
       "    .dataframe thead th {\n",
       "        text-align: right;\n",
       "    }\n",
       "</style>\n",
       "<table border=\"1\" class=\"dataframe\">\n",
       "  <thead>\n",
       "    <tr style=\"text-align: right;\">\n",
       "      <th></th>\n",
       "      <th>title</th>\n",
       "      <th>date</th>\n",
       "      <th>person</th>\n",
       "      <th>link</th>\n",
       "      <th>transcript</th>\n",
       "    </tr>\n",
       "  </thead>\n",
       "  <tbody>\n",
       "    <tr>\n",
       "      <th>0</th>\n",
       "      <td>Remarks at Old South Meeting House in Boston, ...</td>\n",
       "      <td>2019-12-31T00:00:00+00:00</td>\n",
       "      <td>Elizabeth Warren</td>\n",
       "      <td>/documents/remarks-old-south-meeting-house-bos...</td>\n",
       "      <td>\\n[As prepared for delivery.]\\nIn a few hours,...</td>\n",
       "    </tr>\n",
       "    <tr>\n",
       "      <th>1</th>\n",
       "      <td>Steyer Campaign Press Release - Tom Steyer Rea...</td>\n",
       "      <td>2019-12-31T00:00:00+00:00</td>\n",
       "      <td>Tom Steyer</td>\n",
       "      <td>/documents/steyer-campaign-press-release-tom-s...</td>\n",
       "      <td>\\n(SAN FRANCISCO, December 31, 2019) — Today, ...</td>\n",
       "    </tr>\n",
       "    <tr>\n",
       "      <th>2</th>\n",
       "      <td>Biden Campaign Press Release - Biden for Presi...</td>\n",
       "      <td>2019-12-31T00:00:00+00:00</td>\n",
       "      <td>Joseph R. Biden</td>\n",
       "      <td>/documents/biden-campaign-press-release-biden-...</td>\n",
       "      <td>\\nCampaign Continues Growing Super Tuesday Inf...</td>\n",
       "    </tr>\n",
       "    <tr>\n",
       "      <th>3</th>\n",
       "      <td>Article by Mike Bloomberg - You're In Charge: ...</td>\n",
       "      <td>2019-12-31T00:00:00+00:00</td>\n",
       "      <td>Michael Bloomberg</td>\n",
       "      <td>/documents/article-mike-bloomberg-youre-charge...</td>\n",
       "      <td>\\nThis article was written by Mike Bloomberg.\\...</td>\n",
       "    </tr>\n",
       "    <tr>\n",
       "      <th>4</th>\n",
       "      <td>Trump Campaign Statement - Happy New Year from...</td>\n",
       "      <td>2019-12-31T00:00:00+00:00</td>\n",
       "      <td>Donald J. Trump</td>\n",
       "      <td>/documents/trump-campaign-statement-happy-new-...</td>\n",
       "      <td>\\nAs we ring in a New Year, Brad Parscale, Cam...</td>\n",
       "    </tr>\n",
       "  </tbody>\n",
       "</table>\n",
       "</div>"
      ],
      "text/plain": [
       "                                               title   \n",
       "0  Remarks at Old South Meeting House in Boston, ...  \\\n",
       "1  Steyer Campaign Press Release - Tom Steyer Rea...   \n",
       "2  Biden Campaign Press Release - Biden for Presi...   \n",
       "3  Article by Mike Bloomberg - You're In Charge: ...   \n",
       "4  Trump Campaign Statement - Happy New Year from...   \n",
       "\n",
       "                        date             person   \n",
       "0  2019-12-31T00:00:00+00:00   Elizabeth Warren  \\\n",
       "1  2019-12-31T00:00:00+00:00         Tom Steyer   \n",
       "2  2019-12-31T00:00:00+00:00    Joseph R. Biden   \n",
       "3  2019-12-31T00:00:00+00:00  Michael Bloomberg   \n",
       "4  2019-12-31T00:00:00+00:00    Donald J. Trump   \n",
       "\n",
       "                                                link   \n",
       "0  /documents/remarks-old-south-meeting-house-bos...  \\\n",
       "1  /documents/steyer-campaign-press-release-tom-s...   \n",
       "2  /documents/biden-campaign-press-release-biden-...   \n",
       "3  /documents/article-mike-bloomberg-youre-charge...   \n",
       "4  /documents/trump-campaign-statement-happy-new-...   \n",
       "\n",
       "                                          transcript  \n",
       "0  \\n[As prepared for delivery.]\\nIn a few hours,...  \n",
       "1  \\n(SAN FRANCISCO, December 31, 2019) — Today, ...  \n",
       "2  \\nCampaign Continues Growing Super Tuesday Inf...  \n",
       "3  \\nThis article was written by Mike Bloomberg.\\...  \n",
       "4  \\nAs we ring in a New Year, Brad Parscale, Cam...  "
      ]
     },
     "execution_count": 8,
     "metadata": {},
     "output_type": "execute_result"
    }
   ],
   "source": [
    "data.head()"
   ]
  },
  {
   "cell_type": "code",
   "execution_count": 10,
   "metadata": {},
   "outputs": [],
   "source": [
    "tokens = word_tokenize(data.loc[0,\"transcript\"]) "
   ]
  },
  {
   "cell_type": "code",
   "execution_count": 12,
   "metadata": {},
   "outputs": [],
   "source": [
    "# Example using AFINN lexicon\n",
    "from afinn import Afinn\n",
    "\n",
    "afinn = Afinn()\n",
    "sentiment_score = sum([afinn.score(word) for word in tokens])\n"
   ]
  },
  {
   "cell_type": "code",
   "execution_count": 17,
   "metadata": {},
   "outputs": [
    {
     "ename": "LookupError",
     "evalue": "\n**********************************************************************\n  Resource \u001b[93mvader_lexicon\u001b[0m not found.\n  Please use the NLTK Downloader to obtain the resource:\n\n  \u001b[31m>>> import nltk\n  >>> nltk.download('vader_lexicon')\n  \u001b[0m\n  For more information see: https://www.nltk.org/data.html\n\n  Attempted to load \u001b[93msentiment/vader_lexicon.zip/vader_lexicon/vader_lexicon.txt\u001b[0m\n\n  Searched in:\n    - '/Users/yashbhutoria/nltk_data'\n    - '/Library/Developer/CommandLineTools/Library/Frameworks/Python3.framework/Versions/3.9/nltk_data'\n    - '/Library/Developer/CommandLineTools/Library/Frameworks/Python3.framework/Versions/3.9/share/nltk_data'\n    - '/Library/Developer/CommandLineTools/Library/Frameworks/Python3.framework/Versions/3.9/lib/nltk_data'\n    - '/usr/share/nltk_data'\n    - '/usr/local/share/nltk_data'\n    - '/usr/lib/nltk_data'\n    - '/usr/local/lib/nltk_data'\n    - ''\n**********************************************************************\n",
     "output_type": "error",
     "traceback": [
      "\u001b[0;31m---------------------------------------------------------------------------\u001b[0m",
      "\u001b[0;31mLookupError\u001b[0m                               Traceback (most recent call last)",
      "\u001b[1;32m/Users/yashbhutoria/Desktop/webminingproject/process.ipynb Cell 5\u001b[0m line \u001b[0;36m2\n\u001b[1;32m      <a href='vscode-notebook-cell:/Users/yashbhutoria/Desktop/webminingproject/process.ipynb#W4sZmlsZQ%3D%3D?line=0'>1</a>\u001b[0m \u001b[39mfrom\u001b[39;00m \u001b[39mnltk\u001b[39;00m\u001b[39m.\u001b[39;00m\u001b[39msentiment\u001b[39;00m \u001b[39mimport\u001b[39;00m SentimentIntensityAnalyzer\n\u001b[0;32m----> <a href='vscode-notebook-cell:/Users/yashbhutoria/Desktop/webminingproject/process.ipynb#W4sZmlsZQ%3D%3D?line=1'>2</a>\u001b[0m sia \u001b[39m=\u001b[39m SentimentIntensityAnalyzer()\n\u001b[1;32m      <a href='vscode-notebook-cell:/Users/yashbhutoria/Desktop/webminingproject/process.ipynb#W4sZmlsZQ%3D%3D?line=2'>3</a>\u001b[0m sia\u001b[39m.\u001b[39mpolarity_scores(data\u001b[39m.\u001b[39mloc[\u001b[39m0\u001b[39m,\u001b[39m\"\u001b[39m\u001b[39mtranscript\u001b[39m\u001b[39m\"\u001b[39m])\n",
      "File \u001b[0;32m~/Library/Python/3.9/lib/python/site-packages/nltk/sentiment/vader.py:340\u001b[0m, in \u001b[0;36mSentimentIntensityAnalyzer.__init__\u001b[0;34m(self, lexicon_file)\u001b[0m\n\u001b[1;32m    336\u001b[0m \u001b[39mdef\u001b[39;00m \u001b[39m__init__\u001b[39m(\n\u001b[1;32m    337\u001b[0m     \u001b[39mself\u001b[39m,\n\u001b[1;32m    338\u001b[0m     lexicon_file\u001b[39m=\u001b[39m\u001b[39m\"\u001b[39m\u001b[39msentiment/vader_lexicon.zip/vader_lexicon/vader_lexicon.txt\u001b[39m\u001b[39m\"\u001b[39m,\n\u001b[1;32m    339\u001b[0m ):\n\u001b[0;32m--> 340\u001b[0m     \u001b[39mself\u001b[39m\u001b[39m.\u001b[39mlexicon_file \u001b[39m=\u001b[39m nltk\u001b[39m.\u001b[39;49mdata\u001b[39m.\u001b[39;49mload(lexicon_file)\n\u001b[1;32m    341\u001b[0m     \u001b[39mself\u001b[39m\u001b[39m.\u001b[39mlexicon \u001b[39m=\u001b[39m \u001b[39mself\u001b[39m\u001b[39m.\u001b[39mmake_lex_dict()\n\u001b[1;32m    342\u001b[0m     \u001b[39mself\u001b[39m\u001b[39m.\u001b[39mconstants \u001b[39m=\u001b[39m VaderConstants()\n",
      "File \u001b[0;32m~/Library/Python/3.9/lib/python/site-packages/nltk/data.py:750\u001b[0m, in \u001b[0;36mload\u001b[0;34m(resource_url, format, cache, verbose, logic_parser, fstruct_reader, encoding)\u001b[0m\n\u001b[1;32m    747\u001b[0m     \u001b[39mprint\u001b[39m(\u001b[39mf\u001b[39m\u001b[39m\"\u001b[39m\u001b[39m<<Loading \u001b[39m\u001b[39m{\u001b[39;00mresource_url\u001b[39m}\u001b[39;00m\u001b[39m>>\u001b[39m\u001b[39m\"\u001b[39m)\n\u001b[1;32m    749\u001b[0m \u001b[39m# Load the resource.\u001b[39;00m\n\u001b[0;32m--> 750\u001b[0m opened_resource \u001b[39m=\u001b[39m _open(resource_url)\n\u001b[1;32m    752\u001b[0m \u001b[39mif\u001b[39;00m \u001b[39mformat\u001b[39m \u001b[39m==\u001b[39m \u001b[39m\"\u001b[39m\u001b[39mraw\u001b[39m\u001b[39m\"\u001b[39m:\n\u001b[1;32m    753\u001b[0m     resource_val \u001b[39m=\u001b[39m opened_resource\u001b[39m.\u001b[39mread()\n",
      "File \u001b[0;32m~/Library/Python/3.9/lib/python/site-packages/nltk/data.py:876\u001b[0m, in \u001b[0;36m_open\u001b[0;34m(resource_url)\u001b[0m\n\u001b[1;32m    873\u001b[0m protocol, path_ \u001b[39m=\u001b[39m split_resource_url(resource_url)\n\u001b[1;32m    875\u001b[0m \u001b[39mif\u001b[39;00m protocol \u001b[39mis\u001b[39;00m \u001b[39mNone\u001b[39;00m \u001b[39mor\u001b[39;00m protocol\u001b[39m.\u001b[39mlower() \u001b[39m==\u001b[39m \u001b[39m\"\u001b[39m\u001b[39mnltk\u001b[39m\u001b[39m\"\u001b[39m:\n\u001b[0;32m--> 876\u001b[0m     \u001b[39mreturn\u001b[39;00m find(path_, path \u001b[39m+\u001b[39;49m [\u001b[39m\"\u001b[39;49m\u001b[39m\"\u001b[39;49m])\u001b[39m.\u001b[39mopen()\n\u001b[1;32m    877\u001b[0m \u001b[39melif\u001b[39;00m protocol\u001b[39m.\u001b[39mlower() \u001b[39m==\u001b[39m \u001b[39m\"\u001b[39m\u001b[39mfile\u001b[39m\u001b[39m\"\u001b[39m:\n\u001b[1;32m    878\u001b[0m     \u001b[39m# urllib might not use mode='rb', so handle this one ourselves:\u001b[39;00m\n\u001b[1;32m    879\u001b[0m     \u001b[39mreturn\u001b[39;00m find(path_, [\u001b[39m\"\u001b[39m\u001b[39m\"\u001b[39m])\u001b[39m.\u001b[39mopen()\n",
      "File \u001b[0;32m~/Library/Python/3.9/lib/python/site-packages/nltk/data.py:583\u001b[0m, in \u001b[0;36mfind\u001b[0;34m(resource_name, paths)\u001b[0m\n\u001b[1;32m    581\u001b[0m sep \u001b[39m=\u001b[39m \u001b[39m\"\u001b[39m\u001b[39m*\u001b[39m\u001b[39m\"\u001b[39m \u001b[39m*\u001b[39m \u001b[39m70\u001b[39m\n\u001b[1;32m    582\u001b[0m resource_not_found \u001b[39m=\u001b[39m \u001b[39mf\u001b[39m\u001b[39m\"\u001b[39m\u001b[39m\\n\u001b[39;00m\u001b[39m{\u001b[39;00msep\u001b[39m}\u001b[39;00m\u001b[39m\\n\u001b[39;00m\u001b[39m{\u001b[39;00mmsg\u001b[39m}\u001b[39;00m\u001b[39m\\n\u001b[39;00m\u001b[39m{\u001b[39;00msep\u001b[39m}\u001b[39;00m\u001b[39m\\n\u001b[39;00m\u001b[39m\"\u001b[39m\n\u001b[0;32m--> 583\u001b[0m \u001b[39mraise\u001b[39;00m \u001b[39mLookupError\u001b[39;00m(resource_not_found)\n",
      "\u001b[0;31mLookupError\u001b[0m: \n**********************************************************************\n  Resource \u001b[93mvader_lexicon\u001b[0m not found.\n  Please use the NLTK Downloader to obtain the resource:\n\n  \u001b[31m>>> import nltk\n  >>> nltk.download('vader_lexicon')\n  \u001b[0m\n  For more information see: https://www.nltk.org/data.html\n\n  Attempted to load \u001b[93msentiment/vader_lexicon.zip/vader_lexicon/vader_lexicon.txt\u001b[0m\n\n  Searched in:\n    - '/Users/yashbhutoria/nltk_data'\n    - '/Library/Developer/CommandLineTools/Library/Frameworks/Python3.framework/Versions/3.9/nltk_data'\n    - '/Library/Developer/CommandLineTools/Library/Frameworks/Python3.framework/Versions/3.9/share/nltk_data'\n    - '/Library/Developer/CommandLineTools/Library/Frameworks/Python3.framework/Versions/3.9/lib/nltk_data'\n    - '/usr/share/nltk_data'\n    - '/usr/local/share/nltk_data'\n    - '/usr/lib/nltk_data'\n    - '/usr/local/lib/nltk_data'\n    - ''\n**********************************************************************\n"
     ]
    }
   ],
   "source": [
    "from nltk.sentiment import SentimentIntensityAnalyzer\n",
    "sia = SentimentIntensityAnalyzer()\n",
    "sia.polarity_scores(data.loc[0,\"transcript\"])"
   ]
  },
  {
   "cell_type": "code",
   "execution_count": 15,
   "metadata": {},
   "outputs": [
    {
     "data": {
      "text/plain": [
       "'prepared'"
      ]
     },
     "execution_count": 15,
     "metadata": {},
     "output_type": "execute_result"
    }
   ],
   "source": [
    "tokens[2]"
   ]
  },
  {
   "cell_type": "code",
   "execution_count": 18,
   "metadata": {},
   "outputs": [
    {
     "name": "stdout",
     "output_type": "stream",
     "text": [
      "\n",
      "[As prepared for delivery.]\n",
      "In a few hours, the dawn of a New Year will break over America, offering us a moment for pause and reflection.\n",
      "It is normally a moment for optimism. But let's face it: This year in America has been anything but normal.\n",
      "In the past 12 months, the president has become bolder with his lies and more brazen in his law-breaking. He tried to squeeze a foreign government to advance his own personal political fortunes.\n",
      "Meanwhile, the Republicans in Congress have turned into fawning, spineless defenders of his crimes.\n",
      "It brought no one any joy, but the House Democrats upheld their sworn duty to the Constitution and impeached the president of the United States. Soon I will return to the Senate to do my sworn duty as well.\n",
      "But unless some Senate Republicans choose truth over politics, Donald Trump will be emboldened to try to cheat his way through yet another election.\n",
      "So as we turn the page tomorrow — into an election year and a new decade — there is a chill of fear in the air.\n",
      "People are afraid. Afraid for their families and neighbors. Afraid for the children locked in our detention centers and the children on lockdown in our schools. Afraid for women, LGBTQ+ people, especially trans people whose rights will be decided in the Supreme Court next year. Afraid for our country. Afraid for our planet.\n",
      "And the danger they feel is real. Our democracy hangs in the balance. And now it comes to us — now it comes to us to fight back.\n",
      "We are a nation that fights back. Fighting back is an act of patriotism.\n",
      "We fought back against a king and an empire to form a new republic. We fought back against the scourge of slavery even after it was written into our constitution. We fought back against worldwide economic depressions. We fought back against fascist tyrants.\n",
      "Those moments in American history define us. And at each one of them, if our leaders had approached the moment thinking small, we would not have made it through. Americans do big things. That's who we are. And our best moments as a country have been when we see a challenge clearly and we mobilize to meet it head on.\n",
      "And that is why I come to you on this New Year's Eve with a heart filled with optimism.\n",
      "We became the world's leading industrial producer and simultaneously gave workers the right to join unions and the right to live decent lives. We created breakthroughs in science and technology and connected the world through the internet. We rocketed to the moon.\n",
      "We created some of the most beautiful and profound art and music the world has ever seen or read or heard.\n",
      "And these achievements, these victories — not one of them was born of fear. They were born of boldness and big dreams.\n",
      "They were rooted in our unique ability to turn despair into hope, fear into courage, improbability into triumph.\n",
      "They were born of our ability to imagine a better world, to imagine it so clearly and so thoroughly that we fought for it with everything we had — and turned things we could only imagine into reality.\n",
      "We are gathered here today in a house of worship. For half a century leading up to the American Revolution, this place served not only for prayer, but also as a safe haven to test out our early ideas of freedom, justice and equality. A hotbed of resistance and rebellion. A center of bold progressive dialogue.\n",
      "Here, in this room, men and women gathered to confront the moral and ethical challenges of the day. They discussed. They debated. And ultimately, they launched a challenge to the oppression of British rule and started a Revolution.\n",
      "Here, as they took their places among these pews, the spirit of the American imagination was formed, meeting by meeting, vote by vote, speech by speech.\n",
      "I want to tell you about one of the people who sat in this very room. A young girl. A young, enslaved girl named Phillis Wheatley.\n",
      "Born in West Africa, Phillis was kidnapped by slave traders and brought to New England in 1761. From a young age it was clear that Phillis was an extraordinary person. She mastered English, Latin, Greek and English literature at a time when enslaved people could be condemned to death for learning. As she entered her teen years, she became a writer. Back in the early 1770s, as she sat in this church, in these pews, Phillis scoured the holy scripture for the words she needed to give voice to her visions and to spark her imagination.\n",
      "She imagined a world that did not yet exist, but a world she could see. She penned ideals of a better America. Ultimately, she inspired leaders like George Washington himself. She showed through her work the power of imagination to help fuel a revolution.\n",
      "Week after week, Phillis came to this room and imagined. Years before the Revolutionary War, she became the first Black woman to publish a book of poetry in America. Her imagination is woven into the tapestry of America's story.\n",
      "So, just for a moment, here in this place of ideas that took root and shaped a nation, here on the eve of a New Year, let us come together to imagine. Imagine what our country will look like, imagine what your own life will look like, when we finally turn this page in our history.\n",
      "Now I know some of you may be thinking — imagination? Imagining alone won't be enough. And you are right.\n",
      "But imagination is powerful. It forces us to contemplate change in our lives; to begin to expect change. Taking the time to see ourselves and our world better than they are today sparks urgency in our hearts and determination in our minds.\n",
      "So today we come together to imagine.\n",
      "To imagine a country where the decisions made in Washington aren't simply bought and paid for by lobbyists and big donors.\n",
      "To imagine a country where the fossil fuel industry doesn't have a death grip on our planet.\n",
      "To imagine a country where private prisons and detention centers don't exist and no one makes a profit from locking people up.\n",
      "To imagine a country where the NRA and gun industry don't get to put their own profits above the safety of our children.\n",
      "To imagine a country where big drug companies and the insurance industry don't stand between Americans and the basic health care they need.\n",
      "To imagine a country where no politician has to kiss the rings of the rich in order to win elected office.\n",
      "We come together to imagine this reality because this reality is now within our reach.\n",
      "When I am president, we will attack corruption in Washington head on. We will attack the concentration of power that makes this government work great for the wealthy and well-connected, and not for much of anyone else.\n",
      "On day one, we will start to make big, structural change to put the people in charge of our democracy — so we hear everyone's voice and count everyone's vote.\n",
      "On day one, we will start to make big, structural change to end the rigged economy and to create a new set of rules — rules that give everyone a chance to succeed.\n",
      "In my administration, we will build an America where you and your neighbor can celebrate each other's success because you both know that our economy isn't a zero sum game. That we each do better when everyone has a fighting chance to build real security and thrive.\n",
      "Exactly a year ago today I got in the race for president. And I made the decision to run a campaign straight from the heart. As I stand here today, I am deeply grateful that so many of you have put your full hearts into this campaign, as well.\n",
      "Over the past year I've had the chance to shake hands or hug nearly 100,000 people in more than 190 town halls across the country. Sure, there are lots of differences among us.\n",
      "We're tall and short. We have different accents, different needs, different talents, different problems, and different dreams. But for all of our differences, we are ready to fight side-by-side for our common aspirations.\n",
      "I've met voters in big cities, small towns and rural areas who are committed to tearing down the legacy of systemic racism.\n",
      "I've met straight Americans who are committed to the fight for LGBTQ+ rights. I've met men who are committed to the fight for reproductive rights. Farmers worried about the threat of automation and employees of startups in Silicon Valley who know that companies like Facebook and Amazon threaten our economy and our democracy.\n",
      "One year into this campaign, you've never found me behind closed doors with corporate executives or spending hours on the phone sucking up to rich donors to fund my campaign.\n",
      "One year into this campaign, and I'm still listening and learning from people across this nation. Because those moments of deep connection are intense, and they sometimes echo heart-gripping fear.\n",
      "Children who don't want to get shot at school. Young people who say they'll never be able to pay off their student loans. Seniors whose Social Security check just won't cover the basics.\n",
      "But fear never dominates. People tell me what's broken, but the fear always comes lit by a hope for change.\n",
      "Hope for change because they believe in America, and in each other. And I believe too.\n",
      "My plans for this country have been influenced by letters pressed into my palm by little girls.\n",
      "My will to fight has been strengthened by the people who have whispered their dreams into my ear.\n",
      "My determination to lead a movement has been forged by the tens of thousands of people who have said they are ready to fight for the country they know we can be.\n",
      "So, just for a minute, imagine what that country could mean for you. Imagine who you could be if America worked for everyone.\n",
      "Imagine how you could thrive if America was safe for everyone. If you lived in a community without fear. Without fear of oppression, of violence, of anti-semitism, white supremacy, and police brutality, how would you live your life?\n",
      "If you were no longer tied to your job in order to pay off student loan debt, where would you go? Try a different job? Move back to your hometown? Start your own business?\n",
      "If you were no longer paying half your income in rent, what could you do? Pay off your credit cards? Put money in a savings account? Get a dog? (That idea came from Bailey — but think about it.)\n",
      "If you were no longer stretched to make ends meet, who would you be? A coach? A volunteer? A parent?\n",
      "And if you could make these changes, what opportunities would it open up, for you? For your children? For your grandchildren?\n",
      "And imagine a country where every child is treated as so valuable to all of us that their education is a top priority. Imagine a country where teachers are deeply respected for the work they do — and paid accordingly. Where children with disabilities get the services they're entitled to and the assistance they need. Imagine a country where no child ever has to do an active-shooter drill again.\n",
      "And imagine a country where every young adult is treated as so valuable to all of us that technical school, two-year college or four-year college is tuition-free and ready to welcome every one of them.\n",
      "Imagine fleeing violence and oppression and finding an America that matches our best values every day and welcomes asylum seekers and refugees with care and compassion.\n",
      "And while you're imagining, please re-imagine health care.\n",
      "If you're part of a typical American household, your family spent almost $12,000 on health care last year. About 1 in 5 of you — including people with insurance — didn't fill a prescription because you couldn't afford it.\n",
      "So now, imagine an America where Medicare for All ensures health care is a basic human right. Imagine an America where you could get your prescriptions filled, without worrying about the cost.\n",
      "Imagine an America where Black maternal health is a priority. Imagine an America where, if you get really sick, you can concentrate on getting well — and not worry about bankruptcy.\n",
      "Imagine an America where monthly social security checks are big enough to cover the bills and leave a little extra for home repairs or an occasional meal out — or maybe birthday presents for the grandchildren.\n",
      "While the survival of every living thing on this planet hangs in the balance, while fossil fuel companies still call the shots in Washington, imagine an America that has come together to beat back the climate crisis and embrace a Green New Deal.\n",
      "Imagine what's possible when poor communities and communities of color are no longer dumping grounds for toxic wastes and polluting industries.\n",
      "And just one more. Right now in America, women make up 51 percent of our population. We account for nearly 50 percent of the workforce and earn more than 57 percent of college degrees. But only about 29% of elected offices in America are held by women.\n",
      "So imagine an America where more women — women of color, LGBTQ+ women, women with diverse backgrounds — have more power to make the right decisions for our country.\n",
      "Imagine an America where the lived experience of women… is reflected in committee rooms and corner offices and yes, even that really nice Oval-shaped office at 1600 Pennsylvania Avenue.\n",
      "Imagine an America where no matter the color of your skin, who you love, how you worship, where you were born, or what zip code you live in, you are safe and your opportunities look pretty much like everyone else's.\n",
      "If you can imagine all this — if you can imagine that something better lies on the other side of the chaos and ugliness of the last three years — then you are more than halfway there. The first step is to see it. The next step is to fight for it.\n",
      "We begin this fight with a hard truth: No one who has power in Washington is going to give it up easily. Many corporate executives and career politicians and billionaires on both sides of the aisle want to keep their influence and their wealth. And they are already deep in the fight to do so.\n",
      "Look at the facts.\n",
      "Americans overwhelmingly believe that health care is a basic human right. But the private health insurance industry is dumping millions of dollars in false TV ads to scare people away from any change. And the corporate interests know which candidates for president are on their side.\n",
      "A huge majority of Americans support a wealth tax. But billionaires are on TV claiming that it's impossible to get it done anyway, so we shouldn't bother trying. The billionaires know which candidates for president are on their side.\n",
      "An overwhelming majority of Americans want to reduce the influence of money in politics. But wealthy donors are lined up, checkbooks in hand, buying their chance to lobby candidates privately and maybe even get to be appointed ambassador. And you better believe the big donors know which candidates for president are on their side.\n",
      "The billionaires, the corporate executives and their favorite presidential candidates have one clear goal: To convince you that everything you imagine is impossible. To convince you that reform is hopeless. To convince you that because no one can be pure, it's pointless to try to make anything better.\n",
      "Those with power — and those who do their bidding — dump an endless avalanche of excuses, misdirections, and distractions on the American people. It's all designed to get us to give up and resign ourselves to the way things are — with them in power and everyone else left behind.\n",
      "But we know in our hearts that power in America can rest with the people. We can and we must have an economy and a democracy that finally works for everyone.\n",
      "And we, the people, know that the America we imagine together is possible when Americans believe in ourselves and in each other — and when we have the courage to fight for it.\n",
      "Phillis Wheatly was a poet, but her life was not one of gentle remove. She had circulated her poems and published in the journals of the day, and they had begun to receive attention, both here in Boston and around the country. And there was the problem.\n",
      "The boldness of her imagination frightened some people. It was a terrifying thought, to some powerful white people, that this young woman, this young enslaved woman, would create something so potent that she challenged the existing order.\n",
      "So, just a few blocks down the road, at the old south courthouse, a group hauled Phillis into court. They demanded that she sit before a panel of eighteen of Massachusetts's most powerful white men. They demanded that she prove that she had written those poems.\n",
      "In order to continue to circulate her work, she would have to prove that it was possible that an enslaved Black woman could possess the intellectual capacity to write as she wrote.\n",
      "Their attack on Phillis was an attack on her intellect, on her integrity, on the very notion that she could exist. Their attack was also an attack on the humanity of people trapped in slavery, an assertion of innate non-personhood.\n",
      "But Phillis stood tall, and by the end of the proceedings, the judges were persuaded, possibly even embarrassed. Phillis left the courthouse going on to become a nationally and internationally celebrated poet. Her poetry caused George Washington to invite her to visit on the eve of the Revolutionary War. In her short life she became a pioneer of Black literature in America.\n",
      "Phillis Wheatley's spirit is the American spirit. It's the enduring spirit of imagination fortified by courage. Patriotism infused with the dreams of the great country we can be.\n",
      "Phillis Wheatley challenged the power structure of the 1770s — just a few years before our fledgling nation would challenge the worldwide power structure by taking on a British king in a revolution.\n",
      "But Phillis' story and the story of generations of African Americans in this country did not end in victory. Phillis married badly and died penniless. And even as the hopes for the birth of a new nation continued to rise, it would be another century before the tyranny of slavery was destroyed and yet another hundred years before African Americans began to experience true freedom and justice in our country.\n",
      "Yet in the face of hatred, injustice, and oppression, Black Americans throughout our history have never stopped imagining and fighting for a better tomorrow. Not just for themselves, but for our entire nation.\n",
      "Black history, American history, has shown us the way to the America of our highest ideals. A roadmap of resistance and endurance in the fight to transform the heart of our nation.\n",
      "And that fight continues to this very day.\n",
      "2020 is our fight: Our chance to rewrite the rules of power in our country. Our chance to come together despite our differences and mobilize a movement for change.\n",
      "I believe that when future generations of Americans look back on this time, they will celebrate us for choosing hope over fear, courage over timidity, dreams over cynicism. I believe they will see that we fought to build an America of our best values — an America that works for everyone.\n",
      "After the lawsuit, while still an enslaved woman, Phillis wrote a poem entitled On Imagination. She asks her readers to embrace the power of possibility. Here are her words:\n",
      "We on thy pinions can surpass the wind,And leave the rolling universe behind:From star to star the mental optics rove,Measure the skies, and range the realms above.There in one view we grasp the mighty whole,Or with new worlds amaze th' unbounded soul.\n",
      "\n",
      "In the spirit of one young woman who raised her voice from these pews more than two centuries ago, let us begin tomorrow committed to dream big, fight hard, and win. Happy New Year.\n",
      "\n"
     ]
    }
   ],
   "source": [
    "print(data.loc[0,\"transcript\"])"
   ]
  },
  {
   "cell_type": "code",
   "execution_count": null,
   "metadata": {},
   "outputs": [],
   "source": []
  }
 ],
 "metadata": {
  "kernelspec": {
   "display_name": "Python 3",
   "language": "python",
   "name": "python3"
  },
  "language_info": {
   "codemirror_mode": {
    "name": "ipython",
    "version": 3
   },
   "file_extension": ".py",
   "mimetype": "text/x-python",
   "name": "python",
   "nbconvert_exporter": "python",
   "pygments_lexer": "ipython3",
   "version": "3.9.6"
  }
 },
 "nbformat": 4,
 "nbformat_minor": 2
}
